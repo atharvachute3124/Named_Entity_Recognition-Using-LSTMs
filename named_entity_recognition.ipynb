{
 "cells": [
  {
   "cell_type": "code",
   "execution_count": 16,
   "metadata": {},
   "outputs": [],
   "source": [
    "import pandas as pd\n",
    "import numpy as np\n",
    "\n",
    "df = pd.read_csv('ner_dataset.csv', encoding = 'latin1')\n",
    "df = df.fillna(method = 'ffill')"
   ]
  },
  {
   "cell_type": "code",
   "execution_count": 17,
   "metadata": {},
   "outputs": [
    {
     "data": {
      "text/html": [
       "<div>\n",
       "<style scoped>\n",
       "    .dataframe tbody tr th:only-of-type {\n",
       "        vertical-align: middle;\n",
       "    }\n",
       "\n",
       "    .dataframe tbody tr th {\n",
       "        vertical-align: top;\n",
       "    }\n",
       "\n",
       "    .dataframe thead th {\n",
       "        text-align: right;\n",
       "    }\n",
       "</style>\n",
       "<table border=\"1\" class=\"dataframe\">\n",
       "  <thead>\n",
       "    <tr style=\"text-align: right;\">\n",
       "      <th></th>\n",
       "      <th>Sentence #</th>\n",
       "      <th>Word</th>\n",
       "      <th>POS</th>\n",
       "      <th>Tag</th>\n",
       "    </tr>\n",
       "  </thead>\n",
       "  <tbody>\n",
       "    <tr>\n",
       "      <th>count</th>\n",
       "      <td>1048575</td>\n",
       "      <td>1048575</td>\n",
       "      <td>1048575</td>\n",
       "      <td>1048575</td>\n",
       "    </tr>\n",
       "    <tr>\n",
       "      <th>unique</th>\n",
       "      <td>47959</td>\n",
       "      <td>35178</td>\n",
       "      <td>42</td>\n",
       "      <td>17</td>\n",
       "    </tr>\n",
       "    <tr>\n",
       "      <th>top</th>\n",
       "      <td>Sentence: 22480</td>\n",
       "      <td>the</td>\n",
       "      <td>NN</td>\n",
       "      <td>O</td>\n",
       "    </tr>\n",
       "    <tr>\n",
       "      <th>freq</th>\n",
       "      <td>104</td>\n",
       "      <td>52573</td>\n",
       "      <td>145807</td>\n",
       "      <td>887908</td>\n",
       "    </tr>\n",
       "  </tbody>\n",
       "</table>\n",
       "</div>"
      ],
      "text/plain": [
       "             Sentence #     Word      POS      Tag\n",
       "count           1048575  1048575  1048575  1048575\n",
       "unique            47959    35178       42       17\n",
       "top     Sentence: 22480      the       NN        O\n",
       "freq                104    52573   145807   887908"
      ]
     },
     "execution_count": 17,
     "metadata": {},
     "output_type": "execute_result"
    }
   ],
   "source": [
    "df.describe()"
   ]
  },
  {
   "cell_type": "code",
   "execution_count": 18,
   "metadata": {},
   "outputs": [
    {
     "data": {
      "image/png": "[encoded data removed]",
      "text/plain": [
       "<Figure size 1440x576 with 1 Axes>"
      ]
     },
     "metadata": {
      "needs_background": "light"
     },
     "output_type": "display_data"
    }
   ],
   "source": [
    "import seaborn as sns\n",
    "import matplotlib.pyplot as plt\n",
    "\n",
    "except_O = pd.Series(df[\"Tag\"].loc[df[\"Tag\"] != 'O'])\n",
    "\n",
    "plt.figure(figsize = (20, 8))\n",
    "ax = sns.countplot(x = except_O, data = df)"
   ]
  },
  {
   "cell_type": "code",
   "execution_count": 19,
   "metadata": {},
   "outputs": [],
   "source": [
    "class Sentence(object):\n",
    "    def __init__(self, data):\n",
    "        self.data = data\n",
    "        func = lambda Z: [(w ,p ,t) for w, p, t in zip(Z[\"Word\"].values.tolist(),\n",
    "                                                       Z[\"POS\"].values.tolist(),\n",
    "                                                       Z[\"Tag\"].values.tolist())]\n",
    "        self.merged = self.data.groupby('Sentence #').apply(func)\n",
    "        self.sentences = [s for s in self.merged]\n",
    "        \n",
    "    def join(self):\n",
    "        return [\" \".join([s[0] for s in sentence]) for sentence in self.sentences]"
   ]
  },
  {
   "cell_type": "code",
   "execution_count": 20,
   "metadata": {},
   "outputs": [
    {
     "data": {
      "text/plain": [
       "[('Iran', 'NNP', 'B-geo'),\n",
       " (\"'s\", 'POS', 'O'),\n",
       " ('air', 'NN', 'O'),\n",
       " ('force', 'NN', 'O'),\n",
       " ('also', 'RB', 'O'),\n",
       " ('has', 'VBZ', 'O'),\n",
       " ('Russian-made', 'JJ', 'O'),\n",
       " ('Sukhoi', 'NNP', 'O'),\n",
       " ('warplanes', 'NNS', 'O'),\n",
       " ('and', 'CC', 'O'),\n",
       " ('recently', 'RB', 'O'),\n",
       " ('conducted', 'VBN', 'O'),\n",
       " ('test', 'NN', 'O'),\n",
       " ('flights', 'NNS', 'O'),\n",
       " ('on', 'IN', 'O'),\n",
       " ('two', 'CD', 'O'),\n",
       " ('domestically-produced', 'JJ', 'O'),\n",
       " ('fighter', 'NN', 'O'),\n",
       " ('jets', 'NNS', 'O'),\n",
       " ('.', '.', 'O')]"
      ]
     },
     "execution_count": 20,
     "metadata": {},
     "output_type": "execute_result"
    }
   ],
   "source": [
    "merged_sents = Sentence(df)\n",
    "merged_sents.sentences[int(np.random.choice(47958, 1))]"
   ]
  },
  {
   "cell_type": "code",
   "execution_count": 21,
   "metadata": {},
   "outputs": [
    {
     "data": {
      "text/plain": [
       "'Elsewhere in the tribal region , officials said Monday that Taliban militants kidnapped and killed a pro-government tribal elder , Maulana Abdul Haleem , and dumped his body in Bajaur .'"
      ]
     },
     "execution_count": 21,
     "metadata": {},
     "output_type": "execute_result"
    }
   ],
   "source": [
    "actual_sents = merged_sents.join()\n",
    "actual_sents[int(np.random.choice(47958, 1))]"
   ]
  },
  {
   "cell_type": "code",
   "execution_count": 22,
   "metadata": {},
   "outputs": [],
   "source": [
    "uniq_words = set(df[\"Word\"].values)\n",
    "uniq_tags = set(df[\"Tag\"].values)\n",
    "\n",
    "word2idx = {value : key for key, value in enumerate(list(uniq_words))}\n",
    "tag2idx = {value : key for key, value in enumerate(list(uniq_tags))}"
   ]
  },
  {
   "cell_type": "code",
   "execution_count": 23,
   "metadata": {},
   "outputs": [
    {
     "data": {
      "text/plain": [
       "5693"
      ]
     },
     "execution_count": 23,
     "metadata": {},
     "output_type": "execute_result"
    }
   ],
   "source": [
    "word2idx[\"British\"]"
   ]
  },
  {
   "cell_type": "code",
   "execution_count": 24,
   "metadata": {},
   "outputs": [
    {
     "data": {
      "text/plain": [
       "<matplotlib.axes._subplots.AxesSubplot at 0x1cc0619f908>"
      ]
     },
     "execution_count": 24,
     "metadata": {},
     "output_type": "execute_result"
    },
    {
     "data": {
      "image/png": "[encoded data removed]",
      "text/plain": [
       "<Figure size 576x432 with 1 Axes>"
      ]
     },
     "metadata": {
      "needs_background": "light"
     },
     "output_type": "display_data"
    }
   ],
   "source": [
    "plt.figure(figsize = (8, 6))\n",
    "plt.xlabel(\"Length of Sentences\")\n",
    "plt.ylabel(\"Counts\")\n",
    "sns.distplot([len(s) for s in merged_sents.sentences], kde = False)"
   ]
  },
  {
   "cell_type": "code",
   "execution_count": 25,
   "metadata": {},
   "outputs": [
    {
     "name": "stderr",
     "output_type": "stream",
     "text": [
      "Using TensorFlow backend.\n"
     ]
    }
   ],
   "source": [
    "import keras\n",
    "from keras.preprocessing.sequence import pad_sequences\n",
    "from keras.utils import to_categorical\n",
    "\n",
    "MAX_LEN = 60\n",
    "\n",
    "X = [[word2idx[w[0]] for w in item] for item in merged_sents.sentences]\n",
    "Y = [[tag2idx[w[2]] for w in item] for item in merged_sents.sentences]\n",
    "    \n",
    "X = pad_sequences(maxlen = MAX_LEN, sequences = X, padding = 'post', value = len(uniq_words)-1)\n",
    "Y = pad_sequences(maxlen = MAX_LEN, sequences = Y, padding = 'post', value = tag2idx['O'])\n",
    "Y = [to_categorical(value, num_classes = len(uniq_tags)) for value in Y]"
   ]
  },
  {
   "cell_type": "code",
   "execution_count": 26,
   "metadata": {},
   "outputs": [],
   "source": [
    "from sklearn.model_selection import train_test_split\n",
    "\n",
    "x_train, x_test, y_train, y_test = train_test_split(X ,Y , test_size = 0.1, random_state = 50)"
   ]
  },
  {
   "cell_type": "code",
   "execution_count": 27,
   "metadata": {},
   "outputs": [],
   "source": [
    "from keras import Input, Model\n",
    "from keras.models import Sequential\n",
    "from keras.layers import LSTM, Embedding, Dense\n",
    "from keras.layers import TimeDistributed, SpatialDropout1D, Bidirectional"
   ]
  },
  {
   "cell_type": "code",
   "execution_count": 28,
   "metadata": {},
   "outputs": [],
   "source": [
    "epochs = 5\n",
    "val = (x_test, np.array(y_test))\n",
    "batch_size = 64"
   ]
  },
  {
   "cell_type": "code",
   "execution_count": 29,
   "metadata": {},
   "outputs": [
    {
     "name": "stdout",
     "output_type": "stream",
     "text": [
      "Model: \"model_1\"\n",
      "_________________________________________________________________\n",
      "Layer (type)                 Output Shape              Param #   \n",
      "=================================================================\n",
      "input_1 (InputLayer)         (None, 60)                0         \n",
      "_________________________________________________________________\n",
      "embedding_1 (Embedding)      (None, 60, 60)            2110680   \n",
      "_________________________________________________________________\n",
      "spatial_dropout1d_1 (Spatial (None, 60, 60)            0         \n",
      "_________________________________________________________________\n",
      "bidirectional_1 (Bidirection (None, 60, 256)           193536    \n",
      "_________________________________________________________________\n",
      "bidirectional_2 (Bidirection (None, 60, 128)           164352    \n",
      "_________________________________________________________________\n",
      "time_distributed_1 (TimeDist (None, 60, 17)            2193      \n",
      "=================================================================\n",
      "Total params: 2,470,761\n",
      "Trainable params: 2,470,761\n",
      "Non-trainable params: 0\n",
      "_________________________________________________________________\n"
     ]
    }
   ],
   "source": [
    "history = Sequential()\n",
    "shapeforinput = Input(shape = (MAX_LEN,))\n",
    "\n",
    "history = Embedding(len(uniq_words), output_dim = MAX_LEN, input_length = MAX_LEN)(shapeforinput)\n",
    "history = SpatialDropout1D(0.1)(history)\n",
    "history = Bidirectional(LSTM(units = 128, return_sequences = True, recurrent_dropout = 0.1))(history)\n",
    "history = Bidirectional(LSTM(units = 64, return_sequences = True, recurrent_dropout = 0.1))(history)\n",
    "output = TimeDistributed(Dense(units = len(uniq_tags), activation = 'softmax'))(history)\n",
    "history = Model(shapeforinput, output)\n",
    "\n",
    "history.summary()"
   ]
  },
  {
   "cell_type": "code",
   "execution_count": 30,
   "metadata": {},
   "outputs": [],
   "source": [
    "history.compile(loss = 'categorical_crossentropy', metrics = ['accuracy'], optimizer = 'adam')"
   ]
  },
  {
   "cell_type": "code",
   "execution_count": 31,
   "metadata": {},
   "outputs": [
    {
     "name": "stderr",
     "output_type": "stream",
     "text": [
      "D:\\ProgramData\\lib\\site-packages\\tensorflow_core\\python\\framework\\indexed_slices.py:424: UserWarning: Converting sparse IndexedSlices to a dense Tensor of unknown shape. This may consume a large amount of memory.\n",
      "  \"Converting sparse IndexedSlices to a dense Tensor of unknown shape. \"\n"
     ]
    },
    {
     "name": "stdout",
     "output_type": "stream",
     "text": [
      "Train on 43163 samples, validate on 4796 samples\n",
      "Epoch 1/4\n",
      "43163/43163 [==============================] - 322s 7ms/step - loss: 0.1910 - accuracy: 0.9578 - val_loss: 0.0792 - val_accuracy: 0.9767\n",
      "Epoch 2/4\n",
      "43163/43163 [==============================] - 328s 8ms/step - loss: 0.0565 - accuracy: 0.9837 - val_loss: 0.0466 - val_accuracy: 0.9867\n",
      "Epoch 3/4\n",
      "43163/43163 [==============================] - 337s 8ms/step - loss: 0.0381 - accuracy: 0.9889 - val_loss: 0.0417 - val_accuracy: 0.9878\n",
      "Epoch 4/4\n",
      "43163/43163 [==============================] - 354s 8ms/step - loss: 0.0312 - accuracy: 0.9907 - val_loss: 0.0402 - val_accuracy: 0.9884\n"
     ]
    },
    {
     "data": {
      "text/plain": [
       "<keras.callbacks.callbacks.History at 0x1cc3637fd88>"
      ]
     },
     "execution_count": 31,
     "metadata": {},
     "output_type": "execute_result"
    }
   ],
   "source": [
    "from keras.callbacks import EarlyStopping\n",
    "early_stopping = EarlyStopping(monitor = 'val_accuracy',\n",
    "                               patience = 2,\n",
    "                               mode = 'max')\n",
    "\n",
    "callbacks = [early_stopping]\n",
    "\n",
    "history.fit(x_train, np.array(y_train),\n",
    "            epochs = epochs,\n",
    "            batch_size = batch_size,\n",
    "            validation_data = val,\n",
    "            callbacks = callbacks,\n",
    "            verbose = 1)"
   ]
  }
 ],
 "metadata": {
  "kernelspec": {
   "display_name": "Python 3",
   "language": "python",
   "name": "python3"
  },
  "language_info": {
   "codemirror_mode": {
    "name": "ipython",
    "version": 3
   },
   "file_extension": ".py",
   "mimetype": "text/x-python",
   "name": "python",
   "nbconvert_exporter": "python",
   "pygments_lexer": "ipython3",
   "version": "3.7.5"
  }
 },
 "nbformat": 4,
 "nbformat_minor": 4
}
